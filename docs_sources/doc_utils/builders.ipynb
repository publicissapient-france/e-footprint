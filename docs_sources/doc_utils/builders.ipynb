{
 "cells": [
  {
   "cell_type": "markdown",
   "id": "ced2291f-0d66-433f-b25c-a4b3bbc272fe",
   "metadata": {},
   "source": [
    "# e-footprint builders\n",
    "\n",
    "e-footprint builders are higher-level functions that allows for the creation of e-footprint objects from fewer parameters than the raw model requires.\n",
    "\n",
    "## Default builders\n",
    "\n",
    "### Devices"
   ]
  },
  {
   "cell_type": "code",
   "execution_count": 1,
   "id": "952ca11f-1389-4c9c-a8fa-17b4c5649bf6",
   "metadata": {},
   "outputs": [],
   "source": [
    "from efootprint.builders.hardware.devices_defaults import default_smartphone, default_laptop, default_box, default_screen"
   ]
  },
  {
   "cell_type": "code",
   "execution_count": 2,
   "id": "49821423-afad-40fa-b297-09e6ae5e4362",
   "metadata": {},
   "outputs": [
    {
     "name": "stdout",
     "output_type": "stream",
     "text": [
      "Hardware id-ded0ca-Default-smartphone\n",
      " \n",
      "carbon_footprint_fabrication: 30 kilogram\n",
      "power: 1 watt\n",
      "lifespan: 3 year\n",
      "fraction_of_usage_time: 3.6 hour / day\n",
      "\n"
     ]
    }
   ],
   "source": [
    "print(default_smartphone())"
   ]
  },
  {
   "cell_type": "code",
   "execution_count": 3,
   "id": "a0dc9013-0a84-4de9-99ec-d6d88a38d4e9",
   "metadata": {},
   "outputs": [
    {
     "name": "stdout",
     "output_type": "stream",
     "text": [
      "Hardware id-251105-Default-laptop\n",
      " \n",
      "carbon_footprint_fabrication: 156 kilogram\n",
      "power: 50 watt\n",
      "lifespan: 6 year\n",
      "fraction_of_usage_time: 7.0 hour / day\n",
      "\n"
     ]
    }
   ],
   "source": [
    "print(default_laptop())"
   ]
  },
  {
   "cell_type": "code",
   "execution_count": 4,
   "id": "5df47383-e902-47ce-bd0a-349909807104",
   "metadata": {},
   "outputs": [
    {
     "name": "stdout",
     "output_type": "stream",
     "text": [
      "Hardware id-867598-Default-box\n",
      " \n",
      "carbon_footprint_fabrication: 78 kilogram\n",
      "power: 10 watt\n",
      "lifespan: 6 year\n",
      "fraction_of_usage_time: 24.0 hour / day\n",
      "\n"
     ]
    }
   ],
   "source": [
    "print(default_box())"
   ]
  },
  {
   "cell_type": "code",
   "execution_count": 5,
   "id": "7dc52f7b-48ce-4063-89f7-bbb75c8a1930",
   "metadata": {},
   "outputs": [
    {
     "name": "stdout",
     "output_type": "stream",
     "text": [
      "Hardware id-626e61-Default-screen\n",
      " \n",
      "carbon_footprint_fabrication: 222 kilogram\n",
      "power: 30 watt\n",
      "lifespan: 6 year\n",
      "fraction_of_usage_time: 7.0 hour / day\n",
      "\n"
     ]
    }
   ],
   "source": [
    "print(default_screen())"
   ]
  },
  {
   "cell_type": "markdown",
   "id": "ba359b2a-869f-4500-9315-94e611e82ca6",
   "metadata": {},
   "source": [
    "### Network"
   ]
  },
  {
   "cell_type": "code",
   "execution_count": 6,
   "id": "501cb217-8d0d-4820-adaa-14f3a1aba734",
   "metadata": {},
   "outputs": [],
   "source": [
    "from efootprint.builders.hardware.network_defaults import default_mobile_network, default_wifi_network"
   ]
  },
  {
   "cell_type": "code",
   "execution_count": 7,
   "id": "b4e1b8f3-af31-494d-a311-1871ac6a8c83",
   "metadata": {},
   "outputs": [
    {
     "name": "stdout",
     "output_type": "stream",
     "text": [
      "Network id-530c27-Default-mobile-network\n",
      " \n",
      "bandwidth_energy_intensity: 0.12 kilowatt_hour / gigabyte\n",
      " \n",
      "calculated_attributes:\n",
      "  energy_footprint: None\n",
      "\n"
     ]
    }
   ],
   "source": [
    "print(default_mobile_network())"
   ]
  },
  {
   "cell_type": "code",
   "execution_count": 8,
   "id": "30ba2de5-3139-4a57-8432-b779d1c792e2",
   "metadata": {},
   "outputs": [
    {
     "name": "stdout",
     "output_type": "stream",
     "text": [
      "Network id-e9d39c-Default-wifi-network\n",
      " \n",
      "bandwidth_energy_intensity: 0.05 kilowatt_hour / gigabyte\n",
      " \n",
      "calculated_attributes:\n",
      "  energy_footprint: None\n",
      "\n"
     ]
    }
   ],
   "source": [
    "print(default_wifi_network())"
   ]
  },
  {
   "cell_type": "markdown",
   "id": "6e2fbb50-26e7-4bee-8a46-8a4f852a58d4",
   "metadata": {},
   "source": [
    "### Servers\n",
    "\n",
    "Different server types have same default attributes but their calculated attributes logic will be different."
   ]
  },
  {
   "cell_type": "code",
   "execution_count": 9,
   "id": "86140cfe-a18a-487e-be62-2994b5f14cc8",
   "metadata": {},
   "outputs": [],
   "source": [
    "from efootprint.builders.hardware.servers_defaults import default_autoscaling, default_serverless, default_onpremise"
   ]
  },
  {
   "cell_type": "code",
   "execution_count": 10,
   "id": "7206a7da-fb06-42c8-ab0e-a208c6ab2cee",
   "metadata": {},
   "outputs": [
    {
     "name": "stdout",
     "output_type": "stream",
     "text": [
      "Autoscaling id-038a89-Default-autoscaling\n",
      " \n",
      "carbon_footprint_fabrication: 600 kilogram\n",
      "power: 300 watt\n",
      "lifespan: 6 year\n",
      "fraction_of_usage_time: 1 dimensionless\n",
      "average_carbon_intensity: 100.0 gram / kilowatt_hour\n",
      "server_utilization_rate: 0.9 dimensionless\n",
      "idle_power: 50 watt\n",
      "ram: 128 gigabyte\n",
      "cpu_cores: 24 core\n",
      "power_usage_effectiveness: 1.2 dimensionless\n",
      " \n",
      "calculated_attributes:\n",
      "  available_ram_per_instance: None\n",
      "  available_cpu_per_instance: None\n",
      "  all_services_cpu_needs: None\n",
      "  all_services_ram_needs: None\n",
      "  raw_nb_of_instances: None\n",
      "  nb_of_instances: None\n",
      "  instances_fabrication_footprint: None\n",
      "  instances_energy: None\n",
      "  energy_footprint: None\n",
      "\n"
     ]
    }
   ],
   "source": [
    "print(default_autoscaling())"
   ]
  },
  {
   "cell_type": "code",
   "execution_count": 11,
   "id": "4bc7c715-1f52-4489-8e92-b701ff94f249",
   "metadata": {},
   "outputs": [
    {
     "name": "stdout",
     "output_type": "stream",
     "text": [
      "Serverless id-f84f11-Default-serverless\n",
      " \n",
      "carbon_footprint_fabrication: 600 kilogram\n",
      "power: 300 watt\n",
      "lifespan: 6 year\n",
      "fraction_of_usage_time: 1 dimensionless\n",
      "average_carbon_intensity: 100.0 gram / kilowatt_hour\n",
      "server_utilization_rate: 0.9 dimensionless\n",
      "idle_power: 50 watt\n",
      "ram: 128 gigabyte\n",
      "cpu_cores: 24 core\n",
      "power_usage_effectiveness: 1.2 dimensionless\n",
      " \n",
      "calculated_attributes:\n",
      "  available_ram_per_instance: None\n",
      "  available_cpu_per_instance: None\n",
      "  all_services_cpu_needs: None\n",
      "  all_services_ram_needs: None\n",
      "  raw_nb_of_instances: None\n",
      "  nb_of_instances: None\n",
      "  instances_fabrication_footprint: None\n",
      "  instances_energy: None\n",
      "  energy_footprint: None\n",
      "\n"
     ]
    }
   ],
   "source": [
    "print(default_serverless())"
   ]
  },
  {
   "cell_type": "code",
   "execution_count": 12,
   "id": "00df3e07-23cb-47c8-aeb7-b11a0ffdf218",
   "metadata": {},
   "outputs": [
    {
     "name": "stdout",
     "output_type": "stream",
     "text": [
      "OnPremise id-0f7376-Default-on-premise\n",
      " \n",
      "carbon_footprint_fabrication: 600 kilogram\n",
      "power: 300 watt\n",
      "lifespan: 6 year\n",
      "fraction_of_usage_time: 1 dimensionless\n",
      "average_carbon_intensity: 100.0 gram / kilowatt_hour\n",
      "server_utilization_rate: 0.9 dimensionless\n",
      "idle_power: 50 watt\n",
      "ram: 128 gigabyte\n",
      "cpu_cores: 24 core\n",
      "power_usage_effectiveness: 1.2 dimensionless\n",
      "fixed_nb_of_instances: None\n",
      " \n",
      "calculated_attributes:\n",
      "  available_ram_per_instance: None\n",
      "  available_cpu_per_instance: None\n",
      "  all_services_cpu_needs: None\n",
      "  all_services_ram_needs: None\n",
      "  raw_nb_of_instances: None\n",
      "  nb_of_instances: None\n",
      "  instances_fabrication_footprint: None\n",
      "  instances_energy: None\n",
      "  energy_footprint: None\n",
      "\n"
     ]
    }
   ],
   "source": [
    "print(default_onpremise())"
   ]
  },
  {
   "cell_type": "markdown",
   "id": "03f2487e-0e0e-441d-82d3-0be7a1e20059",
   "metadata": {},
   "source": [
    "### Storage"
   ]
  },
  {
   "cell_type": "code",
   "execution_count": 13,
   "id": "9b4a08d3-8d9a-4c23-ac58-8ddf7b29ec38",
   "metadata": {},
   "outputs": [],
   "source": [
    "from efootprint.builders.hardware.storage_defaults import default_hdd, default_ssd"
   ]
  },
  {
   "cell_type": "code",
   "execution_count": 14,
   "id": "143923cc-57c5-41fe-914b-8c4b306cdd56",
   "metadata": {},
   "outputs": [
    {
     "name": "stdout",
     "output_type": "stream",
     "text": [
      "Storage id-1f077f-Default-HDD-storage\n",
      " \n",
      "carbon_footprint_fabrication: 20 kilogram\n",
      "power: 4.2 watt\n",
      "lifespan: 4 year\n",
      "fraction_of_usage_time: 1 dimensionless\n",
      "average_carbon_intensity: 100.0 gram / kilowatt_hour\n",
      "long_term_storage_required: None\n",
      "instances_power: None\n",
      "idle_power: 0 watt\n",
      "storage_capacity: 1 terabyte\n",
      "power_usage_effectiveness: 1.2 dimensionless\n",
      "data_replication_factor: 3 dimensionless\n",
      "data_storage_duration: 5 year\n",
      "base_storage_need: 0 terabyte\n",
      " \n",
      "calculated_attributes:\n",
      "  all_services_storage_needs: None\n",
      "  storage_dumps: None\n",
      "  storage_delta: None\n",
      "  full_cumulative_storage_need: None\n",
      "  nb_of_active_instances: None\n",
      "  all_services_cpu_needs: None\n",
      "  all_services_ram_needs: None\n",
      "  raw_nb_of_instances: None\n",
      "  nb_of_instances: None\n",
      "  instances_fabrication_footprint: None\n",
      "  instances_energy: None\n",
      "  energy_footprint: None\n",
      "\n"
     ]
    }
   ],
   "source": [
    "print(default_hdd())"
   ]
  },
  {
   "cell_type": "code",
   "execution_count": 15,
   "id": "e8282b9f-07e9-4b2b-b996-479d053d4dc4",
   "metadata": {},
   "outputs": [
    {
     "name": "stdout",
     "output_type": "stream",
     "text": [
      "Storage id-b64333-Default-SSD-storage\n",
      " \n",
      "carbon_footprint_fabrication: 160 kilogram\n",
      "power: 1.3 watt\n",
      "lifespan: 6 year\n",
      "fraction_of_usage_time: 1 dimensionless\n",
      "average_carbon_intensity: 100.0 gram / kilowatt_hour\n",
      "long_term_storage_required: None\n",
      "instances_power: None\n",
      "idle_power: 0 watt\n",
      "storage_capacity: 1 terabyte\n",
      "power_usage_effectiveness: 1.2 dimensionless\n",
      "data_replication_factor: 3 dimensionless\n",
      "data_storage_duration: 5 year\n",
      "base_storage_need: 0 terabyte\n",
      " \n",
      "calculated_attributes:\n",
      "  all_services_storage_needs: None\n",
      "  storage_dumps: None\n",
      "  storage_delta: None\n",
      "  full_cumulative_storage_need: None\n",
      "  nb_of_active_instances: None\n",
      "  all_services_cpu_needs: None\n",
      "  all_services_ram_needs: None\n",
      "  raw_nb_of_instances: None\n",
      "  nb_of_instances: None\n",
      "  instances_fabrication_footprint: None\n",
      "  instances_energy: None\n",
      "  energy_footprint: None\n",
      "\n"
     ]
    }
   ],
   "source": [
    "print(default_ssd())"
   ]
  },
  {
   "cell_type": "markdown",
   "id": "5cc9dce0-cc85-423b-bd5b-a1bb389bf5d6",
   "metadata": {},
   "source": [
    "## Overwriting default builders attributes\n",
    "\n",
    "Any default builder attribute can be overwritten, for example:"
   ]
  },
  {
   "cell_type": "code",
   "execution_count": 16,
   "id": "43e718c0-2c61-48cc-9504-cdf093606d04",
   "metadata": {},
   "outputs": [
    {
     "name": "stdout",
     "output_type": "stream",
     "text": [
      "Storage id-83e273-My-custom-default-SSD-with-higher-carbon-intensity\n",
      " \n",
      "carbon_footprint_fabrication: 160 kilogram\n",
      "power: 1.3 watt\n",
      "lifespan: 6 year\n",
      "fraction_of_usage_time: 1 dimensionless\n",
      "average_carbon_intensity: 300.0 gram / kilowatt_hour\n",
      "long_term_storage_required: None\n",
      "instances_power: None\n",
      "idle_power: 0 watt\n",
      "storage_capacity: 1 terabyte\n",
      "power_usage_effectiveness: 1.2 dimensionless\n",
      "data_replication_factor: 3 dimensionless\n",
      "data_storage_duration: 5 year\n",
      "base_storage_need: 0 terabyte\n",
      " \n",
      "calculated_attributes:\n",
      "  all_services_storage_needs: None\n",
      "  storage_dumps: None\n",
      "  storage_delta: None\n",
      "  full_cumulative_storage_need: None\n",
      "  nb_of_active_instances: None\n",
      "  all_services_cpu_needs: None\n",
      "  all_services_ram_needs: None\n",
      "  raw_nb_of_instances: None\n",
      "  nb_of_instances: None\n",
      "  instances_fabrication_footprint: None\n",
      "  instances_energy: None\n",
      "  energy_footprint: None\n",
      "\n"
     ]
    }
   ],
   "source": [
    "from efootprint.abstract_modeling_classes.source_objects import SourceValue\n",
    "from efootprint.constants.units import u\n",
    "\n",
    "print(default_ssd(\"My custom default SSD with higher carbon intensity\", average_carbon_intensity=SourceValue(300 * u.g / u.kWh)))"
   ]
  },
  {
   "cell_type": "markdown",
   "id": "1ca18076-3d6a-408a-8840-654de878be84",
   "metadata": {},
   "source": [
    "## BoaviztAPI builders\n",
    "\n",
    "These builders make use of [Boavizta’s API](https://github.com/Boavizta/boaviztapi) to create objects with their full technical characteristics from fewer information like server name and cloud provider.\n",
    "\n",
    "### BoaviztAPI server builders\n",
    "\n",
    "#### Cloud server from cloud provider and server name"
   ]
  },
  {
   "cell_type": "code",
   "execution_count": 17,
   "id": "13314831-4e8d-4c08-bba4-ea80e86b5123",
   "metadata": {},
   "outputs": [],
   "source": [
    "from efootprint.builders.hardware.servers_boaviztapi import get_cloud_server"
   ]
  },
  {
   "cell_type": "code",
   "execution_count": 18,
   "id": "6ec9fb1a-6af1-4644-aa1a-f8c4ba1624da",
   "metadata": {},
   "outputs": [
    {
     "name": "stdout",
     "output_type": "stream",
     "text": [
      "Autoscaling id-0a04a7-aws-m52exlarge-instances\n",
      " \n",
      "carbon_footprint_fabrication: 48.0 kilogram\n",
      "power: 25.94 watt\n",
      "lifespan: 6 year\n",
      "fraction_of_usage_time: 1 dimensionless\n",
      "average_carbon_intensity: 100.0 gram / kilowatt_hour\n",
      "server_utilization_rate: 0.9 dimensionless\n",
      "idle_power: 0 watt\n",
      "ram: 384.0 gigabyte\n",
      "cpu_cores: 48.0 core\n",
      "power_usage_effectiveness: 1.2 dimensionless\n",
      " \n",
      "calculated_attributes:\n",
      "  available_ram_per_instance: None\n",
      "  available_cpu_per_instance: None\n",
      "  all_services_cpu_needs: None\n",
      "  all_services_ram_needs: None\n",
      "  raw_nb_of_instances: None\n",
      "  nb_of_instances: None\n",
      "  instances_fabrication_footprint: None\n",
      "  instances_energy: None\n",
      "  energy_footprint: None\n",
      "\n"
     ]
    }
   ],
   "source": [
    "print(get_cloud_server(\"aws\", \"m5.xlarge\", SourceValue(100 * u.g / u.kWh)))"
   ]
  },
  {
   "cell_type": "code",
   "execution_count": 19,
   "id": "0f0b4d5b-8e28-4561-9f1a-7261a9fefc49",
   "metadata": {},
   "outputs": [
    {
     "name": "stdout",
     "output_type": "stream",
     "text": [
      "Serverless id-f7f713-aws-m52exlarge-instances\n",
      " \n",
      "carbon_footprint_fabrication: 48.0 kilogram\n",
      "power: 25.94 watt\n",
      "lifespan: 7 year\n",
      "fraction_of_usage_time: 1 dimensionless\n",
      "average_carbon_intensity: 100.0 gram / kilowatt_hour\n",
      "server_utilization_rate: 0.9 dimensionless\n",
      "idle_power: 0 watt\n",
      "ram: 384.0 gigabyte\n",
      "cpu_cores: 48.0 core\n",
      "power_usage_effectiveness: 1.2 dimensionless\n",
      " \n",
      "calculated_attributes:\n",
      "  available_ram_per_instance: None\n",
      "  available_cpu_per_instance: None\n",
      "  all_services_cpu_needs: None\n",
      "  all_services_ram_needs: None\n",
      "  raw_nb_of_instances: None\n",
      "  nb_of_instances: None\n",
      "  instances_fabrication_footprint: None\n",
      "  instances_energy: None\n",
      "  energy_footprint: None\n",
      "\n"
     ]
    }
   ],
   "source": [
    "# The server type can be changed, as well as lifespan, idle_power, power_usage_effectiveness and server_utilization_rate\n",
    "from efootprint.core.hardware.servers.serverless import Serverless\n",
    "\n",
    "print(get_cloud_server(\n",
    "    \"aws\", \"m5.xlarge\", SourceValue(100 * u.g / u.kWh), base_efootprint_class=Serverless, lifespan=SourceValue(7 * u.year)))"
   ]
  },
  {
   "cell_type": "markdown",
   "id": "275cbb37-a7dd-4df6-a9ef-3777246004f2",
   "metadata": {},
   "source": [
    "#### On premise server from config"
   ]
  },
  {
   "cell_type": "code",
   "execution_count": 20,
   "id": "739e0660-2de6-492c-a3dc-dd8161fa6ba3",
   "metadata": {},
   "outputs": [],
   "source": [
    "from efootprint.builders.hardware.servers_boaviztapi import on_premise_server_from_config"
   ]
  },
  {
   "cell_type": "code",
   "execution_count": 21,
   "id": "ce9ed791-bf14-48d8-b4b9-69095675158d",
   "metadata": {},
   "outputs": [
    {
     "name": "stdout",
     "output_type": "stream",
     "text": [
      "OnPremise id-bacd56-My-server\n",
      " \n",
      "carbon_footprint_fabrication: 670.0 kilogram\n",
      "power: 520.99 watt\n",
      "lifespan: 6 year\n",
      "fraction_of_usage_time: 1 dimensionless\n",
      "average_carbon_intensity: 100.0 gram / kilowatt_hour\n",
      "server_utilization_rate: 0.7 dimensionless\n",
      "idle_power: 0 watt\n",
      "ram: 96 gigabyte\n",
      "cpu_cores: 48 core\n",
      "power_usage_effectiveness: 1.4 dimensionless\n",
      "fixed_nb_of_instances: None\n",
      " \n",
      "calculated_attributes:\n",
      "  available_ram_per_instance: None\n",
      "  available_cpu_per_instance: None\n",
      "  all_services_cpu_needs: None\n",
      "  all_services_ram_needs: None\n",
      "  raw_nb_of_instances: None\n",
      "  nb_of_instances: None\n",
      "  instances_fabrication_footprint: None\n",
      "  instances_energy: None\n",
      "  energy_footprint: None\n",
      "\n"
     ]
    }
   ],
   "source": [
    "print(on_premise_server_from_config(\n",
    "    \"My server\", nb_of_cpu_units=2, nb_of_cores_per_cpu_unit=24,nb_of_ram_units=6,\n",
    "    ram_quantity_per_unit_in_gb=16, average_carbon_intensity=SourceValue(100 * u.g / u.kWh),base_ram_consumption=SourceValue(1 * u.MB)))"
   ]
  },
  {
   "cell_type": "markdown",
   "id": "b5436223-6d2c-44a3-bdb0-07e35e7ff4df",
   "metadata": {},
   "source": [
    "## Job builder from Boavizta’s ecobenchmark data"
   ]
  },
  {
   "cell_type": "code",
   "execution_count": 22,
   "id": "0e32e37a-a951-43d5-b313-640cb8d5fdbc",
   "metadata": {},
   "outputs": [
    {
     "name": "stderr",
     "output_type": "stream",
     "text": [
      "2024-09-12 15:44:13,398 - INFO - File /ecobenchmark_results__raw.csv already exists, we do not overwrite it\n"
     ]
    },
    {
     "name": "stdout",
     "output_type": "stream",
     "text": [
      "Job id-38bded-test-job\n",
      " \n",
      "job_type: undefined\n",
      "service: id-6d32c2-test-service\n",
      "data_upload: 1 megabyte\n",
      "data_download: 1 megabyte\n",
      "request_duration: 1 second\n",
      "ram_needed: 6.15 megabyte\n",
      "cpu_needed: 0.08 core\n",
      "description: \n",
      " \n",
      "calculated_attributes:\n",
      "          hourly_occurrences_across_usage_patterns: None\n",
      "  hourly_avg_occurrences_across_usage_patterns: None\n",
      "  hourly_data_upload_across_usage_patterns: None\n",
      "\n"
     ]
    }
   ],
   "source": [
    "from efootprint.builders.usage.job_ecobenchmark.ecobenchmark_job_builder import ecobenchmark_job\n",
    "\n",
    "server = default_autoscaling()\n",
    "storage = default_ssd()\n",
    "job = ecobenchmark_job(\n",
    "    \"test job\", server, storage, data_upload=SourceValue(1 * u.MB), data_download=SourceValue(1 * u.MB),\n",
    "    technology='php-symfony')\n",
    "\n",
    "print(job)"
   ]
  },
  {
   "cell_type": "code",
   "execution_count": 23,
   "id": "bd614940-7db9-48fb-8219-861ad084cd0a",
   "metadata": {},
   "outputs": [
    {
     "name": "stdout",
     "output_type": "stream",
     "text": [
      "['go-pgx', 'jvm-kotlin-spring', 'node-express-sequelize', 'php-symfony', 'rust-actix-sqlx']\n"
     ]
    }
   ],
   "source": [
    "# List of available technologies\n",
    "from efootprint.builders.usage.job_ecobenchmark.ecobenchmark_job_builder import get_ecobenchmark_technologies\n",
    "print(get_ecobenchmark_technologies())"
   ]
  },
  {
   "cell_type": "code",
   "execution_count": null,
   "id": "ab859bcb-dc60-4d23-b394-5efdb1fdba53",
   "metadata": {},
   "outputs": [],
   "source": []
  }
 ],
 "metadata": {
  "kernelspec": {
   "display_name": "efootprint",
   "language": "python",
   "name": "efootprint"
  },
  "language_info": {
   "codemirror_mode": {
    "name": "ipython",
    "version": 3
   },
   "file_extension": ".py",
   "mimetype": "text/x-python",
   "name": "python",
   "nbconvert_exporter": "python",
   "pygments_lexer": "ipython3",
   "version": "3.12.5"
  }
 },
 "nbformat": 4,
 "nbformat_minor": 5
}
